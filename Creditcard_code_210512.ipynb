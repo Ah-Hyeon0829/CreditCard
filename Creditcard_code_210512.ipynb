{
  "nbformat": 4,
  "nbformat_minor": 0,
  "metadata": {
    "colab": {
      "name": "Creditcard_code_210512.ipynb",
      "private_outputs": true,
      "provenance": [],
      "collapsed_sections": [
        "tkvgTUBV5a_l",
        "6VcPBr248tK9",
        "5VOFdMb9QLml",
        "cgDG89f_SOgW",
        "L7y5AbinSVcV",
        "Ggxc-rilSX3A",
        "4kVaMR0_Sdqg",
        "7D7Qz10o-Q1u"
      ],
      "machine_shape": "hm"
    },
    "kernelspec": {
      "name": "python3",
      "display_name": "Python 3"
    },
    "language_info": {
      "name": "python"
    },
    "accelerator": "GPU"
  },
  "cells": [
    {
      "cell_type": "markdown",
      "metadata": {
        "id": "rP83saI77EjV"
      },
      "source": [
        "# **신용카드 사용자 연체 예측 AI 경진대회**\n",
        "\n",
        "---\n",
        "\n"
      ]
    },
    {
      "cell_type": "markdown",
      "metadata": {
        "id": "0WQWWz0HMIN7"
      },
      "source": [
        "※※ 변경사항 ※※\n",
        "\n",
        "1.   데이터 전처리/인코딩 완료(train & test)\n",
        "2.   regression 과정에서 inocc -> Retired 변경\n",
        "3.   regression 과정에서 소수 부분 반올림 처리 \n",
        "4.   데이터 전처리 과정에서 생략된 EDA는 추후에 추가 예정\n",
        "5.   인코딩의 경우 베이스코드 그대로 적용\n",
        "\n"
      ]
    },
    {
      "cell_type": "markdown",
      "metadata": {
        "id": "tkvgTUBV5a_l"
      },
      "source": [
        "# **0. 라이브러리 설치 및 불러오기**"
      ]
    },
    {
      "cell_type": "code",
      "metadata": {
        "id": "zNj1VBWu559j"
      },
      "source": [
        "import pandas as pd\n",
        "import numpy as np\n",
        "import tensorflow as tf\n",
        "\n",
        "import matplotlib.pyplot as plt\n",
        "import seaborn as sns\n",
        "import plotly.io as pio\n",
        "import plotly.express as px\n",
        "import plotly.graph_objects as go\n",
        "\n",
        "from keras.models import Model\n",
        "from keras.models import Sequential\n",
        "from keras.layers import Input, Dense, Embedding, SpatialDropout1D, add, concatenate\n",
        "from keras.layers import Bidirectional, GlobalMaxPooling1D, GlobalAveragePooling1D\n",
        "from keras.layers import LSTM\n",
        "from keras.layers import BatchNormalization\n",
        "from tensorflow.keras.layers import Dense, Embedding, Bidirectional, LSTM, Concatenate, Dropout\n",
        "from tensorflow.keras import Input, Model\n",
        "from tensorflow.keras import optimizers\n",
        "from keras.preprocessing import text, sequence\n",
        "from keras.callbacks import LearningRateScheduler\n",
        "from keras.optimizers import RMSprop, Adadelta, Adam\n",
        "from sklearn import preprocessing\n"
      ],
      "execution_count": null,
      "outputs": []
    },
    {
      "cell_type": "code",
      "metadata": {
        "id": "R9a0JHhY56I3"
      },
      "source": [
        "from google.colab import drive\n",
        "drive.mount('/content/drive')"
      ],
      "execution_count": null,
      "outputs": []
    },
    {
      "cell_type": "code",
      "metadata": {
        "id": "b7UEvpw356a1"
      },
      "source": [
        "import os\n",
        "os.chdir('/content/drive/MyDrive/data/credit')"
      ],
      "execution_count": null,
      "outputs": []
    },
    {
      "cell_type": "code",
      "metadata": {
        "id": "IwlPcaPeBko2"
      },
      "source": [
        "train=pd.read_csv('train.csv')\n",
        "test=pd.read_csv('test.csv')\n",
        "submission=pd.read_csv('sample_submission.csv')"
      ],
      "execution_count": null,
      "outputs": []
    },
    {
      "cell_type": "code",
      "metadata": {
        "id": "K92JE9uv54b8"
      },
      "source": [
        "df_train=train.copy()\n",
        "df_test=test.copy()"
      ],
      "execution_count": null,
      "outputs": []
    },
    {
      "cell_type": "markdown",
      "metadata": {
        "id": "f-00Rjf65i6U"
      },
      "source": [
        "# **1. 데이터 전처리 & EDA**\n",
        "\n",
        "\n",
        "\n",
        "\n",
        "\n"
      ]
    },
    {
      "cell_type": "markdown",
      "metadata": {
        "id": "6VcPBr248tK9"
      },
      "source": [
        "## 1.1 데이터 살펴보기 \n"
      ]
    },
    {
      "cell_type": "code",
      "metadata": {
        "id": "20sG8fGe-dgM"
      },
      "source": [
        "df_train.head()"
      ],
      "execution_count": null,
      "outputs": []
    },
    {
      "cell_type": "code",
      "metadata": {
        "id": "w0dQbrgq-d9Y"
      },
      "source": [
        "df_train.info()"
      ],
      "execution_count": null,
      "outputs": []
    },
    {
      "cell_type": "code",
      "metadata": {
        "id": "CFVfJPRL_2O9"
      },
      "source": [
        "df_test.head()"
      ],
      "execution_count": null,
      "outputs": []
    },
    {
      "cell_type": "code",
      "metadata": {
        "id": "U6lNI_cm_577"
      },
      "source": [
        "df_test.info()"
      ],
      "execution_count": null,
      "outputs": []
    },
    {
      "cell_type": "markdown",
      "metadata": {
        "id": "MsvHpt0l8zzu"
      },
      "source": [
        "## 1.2 데이터 전처리"
      ]
    },
    {
      "cell_type": "code",
      "metadata": {
        "id": "0Spr5PjTgiv3"
      },
      "source": [
        "df_train.isnull().sum()"
      ],
      "execution_count": null,
      "outputs": []
    },
    {
      "cell_type": "code",
      "metadata": {
        "id": "xXQPkuub-nk6"
      },
      "source": [
        "df_test.isnull().sum()"
      ],
      "execution_count": null,
      "outputs": []
    },
    {
      "cell_type": "markdown",
      "metadata": {
        "id": "fgaqRr4DgkbI"
      },
      "source": [
        "'occyp_type' 항목에서 결측치가 30% 존재.   \n",
        "단순 제거하기엔 너무 많은 수치라 판단하여 대체할 수 있는 방안을 모색함\n",
        "\n"
      ]
    },
    {
      "cell_type": "markdown",
      "metadata": {
        "id": "DtFWMU2YPMQc"
      },
      "source": [
        "### 1.2.1 imputataion of missing values\n"
      ]
    },
    {
      "cell_type": "markdown",
      "metadata": {
        "id": "oIEzDVcnp3_W"
      },
      "source": [
        "#### (1) pension"
      ]
    },
    {
      "cell_type": "markdown",
      "metadata": {
        "id": "wSlnqtxTIJdV"
      },
      "source": [
        "'occyp_type' 항목에서 결측치의 특성을 알아보기 위해 non_occyp 및 occyp 지정"
      ]
    },
    {
      "cell_type": "code",
      "metadata": {
        "id": "wcKuI0B7-ehE"
      },
      "source": [
        "non_occyp=df_train.loc[df_train['occyp_type'].isnull()] #직업유형이 없는 사람\n",
        "occyp=df_train.dropna() #직업유형이 있는 사람(결측치 제거)"
      ],
      "execution_count": null,
      "outputs": []
    },
    {
      "cell_type": "code",
      "metadata": {
        "id": "iA8a1sgf6b99"
      },
      "source": [
        "non_occyp.info()"
      ],
      "execution_count": null,
      "outputs": []
    },
    {
      "cell_type": "code",
      "metadata": {
        "id": "j_i3AQQI6iyE"
      },
      "source": [
        "occyp.info()"
      ],
      "execution_count": null,
      "outputs": []
    },
    {
      "cell_type": "code",
      "metadata": {
        "id": "OU0IqfeGBSH_"
      },
      "source": [
        "occyp.loc[occyp['DAYS_EMPLOYED']>0]#1이 없음\n",
        "#전부다 고용된 상태임"
      ],
      "execution_count": null,
      "outputs": []
    },
    {
      "cell_type": "code",
      "metadata": {
        "id": "l6bY-3CY-em1"
      },
      "source": [
        "#양수인 부분이 4438개->고용된 사람과 그렇지 않은 사람이 존재한다.\n",
        "non_occyp['DAYS_EMPLOYED'].value_counts()"
      ],
      "execution_count": null,
      "outputs": []
    },
    {
      "cell_type": "code",
      "metadata": {
        "id": "tvdJ-II3BaHT"
      },
      "source": [
        "non_occyp['employeed']=[1 if t<0 else 0 for t in list(non_occyp['DAYS_EMPLOYED'])]"
      ],
      "execution_count": null,
      "outputs": []
    },
    {
      "cell_type": "code",
      "metadata": {
        "id": "GmIXtaoABfrG"
      },
      "source": [
        "non_occyp.head()#양수면 0,음수면 1"
      ],
      "execution_count": null,
      "outputs": []
    },
    {
      "cell_type": "code",
      "metadata": {
        "id": "StteHAs1BpAd"
      },
      "source": [
        "occyp['employeed']=1"
      ],
      "execution_count": null,
      "outputs": []
    },
    {
      "cell_type": "code",
      "metadata": {
        "id": "1kk_jYnUBsdu"
      },
      "source": [
        "occyp.head()"
      ],
      "execution_count": null,
      "outputs": []
    },
    {
      "cell_type": "markdown",
      "metadata": {
        "id": "LbupjbfpByOR"
      },
      "source": [
        "결측치에 해당하는 값을 조사한 결과 고용이 안 된 사람과 된 사람 모두 포함되지만 결측값이 없는 상태는 모두 고용이 된 사람들이다."
      ]
    },
    {
      "cell_type": "code",
      "metadata": {
        "id": "1c-SKNHs7GoJ"
      },
      "source": [
        "non_occyp.loc[non_occyp['DAYS_EMPLOYED']>=0, 'DAYS_EMPLOYED'] = 0"
      ],
      "execution_count": null,
      "outputs": []
    },
    {
      "cell_type": "code",
      "metadata": {
        "id": "qRESD-weiwtZ"
      },
      "source": [
        "non_occyp.loc[non_occyp['DAYS_EMPLOYED']>=0, 'occyp_type'] = 'Retired'\n",
        "non_occyp.head()"
      ],
      "execution_count": null,
      "outputs": []
    },
    {
      "cell_type": "code",
      "metadata": {
        "id": "mdtvsFAMrJ9s"
      },
      "source": [
        "#occyp['DAYS_BIRTH'] = occyp['DAYS_BIRTH'] // -365\n",
        "#non_occyp['DAYS_BIRTH'] = non_occyp['DAYS_BIRTH'] // -365"
      ],
      "execution_count": null,
      "outputs": []
    },
    {
      "cell_type": "code",
      "metadata": {
        "id": "g2mdAIsJBhcc"
      },
      "source": [
        "#sns.displot(occyp['DAYS_BIRTH'])"
      ],
      "execution_count": null,
      "outputs": []
    },
    {
      "cell_type": "code",
      "metadata": {
        "id": "hTTVyFmFrKC8"
      },
      "source": [
        "#sns.displot(non_occyp['DAYS_BIRTH'])"
      ],
      "execution_count": null,
      "outputs": []
    },
    {
      "cell_type": "code",
      "metadata": {
        "id": "VeKOlhsKrKFv"
      },
      "source": [
        "#bins = list(range(0,80,10))\n",
        "#print(bins)\n",
        "#bins_label = [str(x)+\"s\"  for x in bins]"
      ],
      "execution_count": null,
      "outputs": []
    },
    {
      "cell_type": "code",
      "metadata": {
        "id": "ZXO01ji01OQC"
      },
      "source": [
        "#occyp['DAYS_BIRTH'] = pd.cut(occyp['DAYS_BIRTH'],bins, right=False, labels = bins_label[:-1])\n",
        "#non_occyp['DAYS_BIRTH'] = pd.cut(non_occyp['DAYS_BIRTH'],bins, right=False, labels = bins_label[:-1])"
      ],
      "execution_count": null,
      "outputs": []
    },
    {
      "cell_type": "code",
      "metadata": {
        "id": "47nq_DS4D0Cx"
      },
      "source": [
        "#sns.countplot(x=\"DAYS_BIRTH\", data=occyp)\n",
        "#plt.title(\"DAYS_BIRTH distribution\")\n",
        "#plt.show()"
      ],
      "execution_count": null,
      "outputs": []
    },
    {
      "cell_type": "code",
      "metadata": {
        "id": "MyQyCWM41OSf"
      },
      "source": [
        "#sns.countplot(x=\"DAYS_BIRTH\", data=non_occyp)\n",
        "#plt.title(\"DAYS_BIRTH distribution\")\n",
        "#plt.show()"
      ],
      "execution_count": null,
      "outputs": []
    },
    {
      "cell_type": "code",
      "metadata": {
        "id": "xn_FsGwO1cCw"
      },
      "source": [
        "non_occyp[['income_type','occyp_type']].value_counts()"
      ],
      "execution_count": null,
      "outputs": []
    },
    {
      "cell_type": "markdown",
      "metadata": {
        "id": "NOFTQdp2JNmH"
      },
      "source": [
        "위에 지정한 'Retired'는 전부 pensioner임을 알 수 있음."
      ]
    },
    {
      "cell_type": "code",
      "metadata": {
        "id": "ljDyCqod1cFg"
      },
      "source": [
        "occyp[['income_type','occyp_type']].value_counts()"
      ],
      "execution_count": null,
      "outputs": []
    },
    {
      "cell_type": "code",
      "metadata": {
        "id": "Oclt2_-rixCB"
      },
      "source": [
        "#df_train.loc[df_train['DAYS_EMPLOYED']>=0, 'occyp_type'] = 'Retired'\n",
        "#df_train.info()\n",
        "# df_test도 아마 비슷할 듯?"
      ],
      "execution_count": null,
      "outputs": []
    },
    {
      "cell_type": "code",
      "metadata": {
        "id": "BkEY1lL4CorF"
      },
      "source": [
        "non_occyp.isnull().sum() #3733개 남음"
      ],
      "execution_count": null,
      "outputs": []
    },
    {
      "cell_type": "code",
      "metadata": {
        "id": "BjB4LQLYCoxU"
      },
      "source": [
        "non_occyp.head()"
      ],
      "execution_count": null,
      "outputs": []
    },
    {
      "cell_type": "code",
      "metadata": {
        "id": "AXXkopM6Co4E"
      },
      "source": [
        "occyp.head()"
      ],
      "execution_count": null,
      "outputs": []
    },
    {
      "cell_type": "markdown",
      "metadata": {
        "id": "l5LUWfSIp770"
      },
      "source": [
        "#### (2) regreesion"
      ]
    },
    {
      "cell_type": "code",
      "metadata": {
        "id": "eDGDMaCaiwvy"
      },
      "source": [
        "data=pd.concat([occyp,non_occyp])"
      ],
      "execution_count": null,
      "outputs": []
    },
    {
      "cell_type": "code",
      "metadata": {
        "id": "IQcacfVeQ8S8"
      },
      "source": [
        "data.head()"
      ],
      "execution_count": null,
      "outputs": []
    },
    {
      "cell_type": "code",
      "metadata": {
        "id": "Pd9Zb4i2Q8Vn"
      },
      "source": [
        "#명목형 변수 라벨화\n",
        "label_encoder=preprocessing.LabelEncoder()\n",
        "\n",
        "data['gender'] = data['gender'].replace(['F','M'],[0,1])\n",
        "data['car'] = data['car'].replace(['N','Y'],[0,1])\n",
        "data['reality'] = data['reality'].replace(['N','Y'],[0,1])\n",
        "data['income_type']=label_encoder.fit_transform(data['income_type'])\n",
        "#################################################################\n",
        "data['edu_type']=label_encoder.fit_transform(data['edu_type'])\n",
        "########################################################################\n",
        "data['family_type']=label_encoder.fit_transform(data['family_type'])\n",
        "########################################################################\n",
        "data['house_type']=label_encoder.fit_transform(data['house_type'])\n",
        "########################################################################"
      ],
      "execution_count": null,
      "outputs": []
    },
    {
      "cell_type": "code",
      "metadata": {
        "id": "HflhcuegQ8YN"
      },
      "source": [
        "data.head()"
      ],
      "execution_count": null,
      "outputs": []
    },
    {
      "cell_type": "code",
      "metadata": {
        "id": "_OKj_U9_Q8a6"
      },
      "source": [
        "null_data=data.loc[data['occyp_type'].isnull()]"
      ],
      "execution_count": null,
      "outputs": []
    },
    {
      "cell_type": "code",
      "metadata": {
        "id": "sA4WT7zKQ8dj"
      },
      "source": [
        "null_data.head()#inocc 대체 후 결측치가 있는 것들"
      ],
      "execution_count": null,
      "outputs": []
    },
    {
      "cell_type": "code",
      "metadata": {
        "id": "Xr9h6AjzQ8g4"
      },
      "source": [
        "fill_data=data.dropna() #결측치 제거한 데이터"
      ],
      "execution_count": null,
      "outputs": []
    },
    {
      "cell_type": "code",
      "metadata": {
        "id": "rp510HttQ8iz"
      },
      "source": [
        "print(fill_data.shape,null_data.shape)"
      ],
      "execution_count": null,
      "outputs": []
    },
    {
      "cell_type": "code",
      "metadata": {
        "id": "51lk0XKZQ8lz"
      },
      "source": [
        "fill_data['occyp_type_l']=label_encoder.fit_transform(fill_data['occyp_type'])\n",
        "#결측치 없는 데이터 중 occyp_type를 라벨링한 변수를 추가(라벨링과 원래값 비교를 위해)"
      ],
      "execution_count": null,
      "outputs": []
    },
    {
      "cell_type": "code",
      "metadata": {
        "id": "lqQGuIZdWCQM"
      },
      "source": [
        "fill_data.columns"
      ],
      "execution_count": null,
      "outputs": []
    },
    {
      "cell_type": "code",
      "metadata": {
        "id": "3bZr17KwWCS2"
      },
      "source": [
        "null_data.columns"
      ],
      "execution_count": null,
      "outputs": []
    },
    {
      "cell_type": "code",
      "metadata": {
        "id": "-WzSBMEsWCVZ"
      },
      "source": [
        "from sklearn import linear_model \n",
        "lin_reg = linear_model.LinearRegression()\n",
        "x=fill_data[fill_data.columns.drop(['index','occyp_type','credit',\n",
        "                                   'employeed','occyp_type_l'])]\n",
        "#employeed(0,1)을 넣지 않고 days_employed에서 양수값을 0으로 처리한 상태에서 재시도\n",
        "#라벨링한 occyp_type_l는 종속변수로 사용\n",
        "y=fill_data['occyp_type_l']#라벨링 상태\n",
        "lin_reg_model = lin_reg.fit(x, y)"
      ],
      "execution_count": null,
      "outputs": []
    },
    {
      "cell_type": "code",
      "metadata": {
        "id": "6rnje2HlWCXx"
      },
      "source": [
        "x.shape"
      ],
      "execution_count": null,
      "outputs": []
    },
    {
      "cell_type": "code",
      "metadata": {
        "id": "7528LOg_WCad"
      },
      "source": [
        "x_test=null_data[null_data.columns.drop(['index','occyp_type','credit','employeed'])]\n",
        "y_test=null_data['occyp_type']\n",
        "y_test=lin_reg.predict(x_test)#결측치가 있는 데이터에 대입"
      ],
      "execution_count": null,
      "outputs": []
    },
    {
      "cell_type": "code",
      "metadata": {
        "id": "-KkmS9uCWCdI"
      },
      "source": [
        "null_data['occyp_type']=y_test"
      ],
      "execution_count": null,
      "outputs": []
    },
    {
      "cell_type": "code",
      "metadata": {
        "id": "nOlXRRvtWCgF"
      },
      "source": [
        "null_data.head()"
      ],
      "execution_count": null,
      "outputs": []
    },
    {
      "cell_type": "code",
      "metadata": {
        "id": "VmEDRd8sQ8q7"
      },
      "source": [
        "null_data['occyp_type'].value_counts()"
      ],
      "execution_count": null,
      "outputs": []
    },
    {
      "cell_type": "code",
      "metadata": {
        "id": "7YQLd68wQ8r5"
      },
      "source": [
        "print(y[:10])"
      ],
      "execution_count": null,
      "outputs": []
    },
    {
      "cell_type": "code",
      "metadata": {
        "id": "Wyqc2Bl4Q82a"
      },
      "source": [
        "fill_data['occyp_type'].value_counts()"
      ],
      "execution_count": null,
      "outputs": []
    },
    {
      "cell_type": "code",
      "metadata": {
        "id": "4haByNiPWVzF"
      },
      "source": [
        "#fill_data['occyp_type_enc']=y_encoded\n",
        "fill_data['occyp_type_l'].value_counts()"
      ],
      "execution_count": null,
      "outputs": []
    },
    {
      "cell_type": "code",
      "metadata": {
        "id": "oK0dpGgVWV13"
      },
      "source": [
        "fill_data['occyp_type_l'].unique()#라벨링값"
      ],
      "execution_count": null,
      "outputs": []
    },
    {
      "cell_type": "code",
      "metadata": {
        "id": "UrjXpBImWV4c"
      },
      "source": [
        "fill_data['occyp_type'].unique()#라벨링값 순서대로 8:Laborers,10:Managers,..."
      ],
      "execution_count": null,
      "outputs": []
    },
    {
      "cell_type": "code",
      "metadata": {
        "id": "YPc0-Fx6WV69"
      },
      "source": [
        "np.round(y_test,0)"
      ],
      "execution_count": null,
      "outputs": []
    },
    {
      "cell_type": "code",
      "metadata": {
        "id": "KZ_eo6aLWV9d"
      },
      "source": [
        "null_data['occyp_type']=np.round(null_data['occyp_type'],0)#추후 회의 후 결정"
      ],
      "execution_count": null,
      "outputs": []
    },
    {
      "cell_type": "code",
      "metadata": {
        "id": "iXT38nYSWWAG"
      },
      "source": [
        "null_data['occyp_type'].value_counts()"
      ],
      "execution_count": null,
      "outputs": []
    },
    {
      "cell_type": "code",
      "metadata": {
        "id": "YKLNwKJJWWCj"
      },
      "source": [
        "#라벨링->원래값\n",
        "null_data.loc[null_data['occyp_type']==2.0,'occyp_type']= 'Cooking staff'\n",
        "null_data.loc[null_data['occyp_type']==3.0,'occyp_type']='Core staff'\n",
        "null_data.loc[null_data['occyp_type']==4.0,'occyp_type']='Drivers'\n",
        "null_data.loc[null_data['occyp_type']==5.0,'occyp_type']='HR staff'\n",
        "null_data.loc[null_data['occyp_type']==6.0,'occyp_type']='High skill tech staff'\n",
        "null_data.loc[null_data['occyp_type']==7.0,'occyp_type']='IT staff'\n",
        "null_data.loc[null_data['occyp_type']==8.0,'occyp_type']='Laborers'\n",
        "null_data.loc[null_data['occyp_type']==9.0,'occyp_type']='Low-skill Laborers'\n",
        "null_data.loc[null_data['occyp_type']==10.0,'occyp_type']='Managers'\n",
        "null_data.loc[null_data['occyp_type']==11.0,'occyp_type']='Medicine staff'\n",
        "null_data.loc[null_data['occyp_type']==12.0,'occyp_type']='Private service staff'\n",
        "null_data.loc[null_data['occyp_type']==13.0,'occyp_type']='Realty agents'\n",
        "null_data.loc[null_data['occyp_type']==14.0,'occyp_type']='Sales staff'\n",
        "null_data.loc[null_data['occyp_type']==15.0,'occyp_type']='Secretaries'\n",
        "null_data.loc[null_data['occyp_type']==16.0,'occyp_type']='Security staff'"
      ],
      "execution_count": null,
      "outputs": []
    },
    {
      "cell_type": "code",
      "metadata": {
        "id": "ifIC8fq4Wjpl"
      },
      "source": [
        "fill_data['occyp_type'].value_counts().plot(kind='bar')"
      ],
      "execution_count": null,
      "outputs": []
    },
    {
      "cell_type": "code",
      "metadata": {
        "id": "1PMOxRjhWjsE"
      },
      "source": [
        "null_data['occyp_type'].value_counts().plot(kind='bar')"
      ],
      "execution_count": null,
      "outputs": []
    },
    {
      "cell_type": "code",
      "metadata": {
        "id": "iHdICa6bWjvH"
      },
      "source": [
        "null_data.columns"
      ],
      "execution_count": null,
      "outputs": []
    },
    {
      "cell_type": "code",
      "metadata": {
        "id": "a3Mde5Y-Wjw-"
      },
      "source": [
        "fill_data.columns"
      ],
      "execution_count": null,
      "outputs": []
    },
    {
      "cell_type": "code",
      "metadata": {
        "id": "BL7J2g94Q85L"
      },
      "source": [
        "fill_data=fill_data.drop('occyp_type_l',axis=1)"
      ],
      "execution_count": null,
      "outputs": []
    },
    {
      "cell_type": "code",
      "metadata": {
        "id": "92P-WwgvWsDl"
      },
      "source": [
        "df=pd.concat([null_data,fill_data]).sort_values(by='index')\n",
        "df.head()"
      ],
      "execution_count": null,
      "outputs": []
    },
    {
      "cell_type": "code",
      "metadata": {
        "id": "-_t9tZaA6kON"
      },
      "source": [
        "df.isnull().sum()"
      ],
      "execution_count": null,
      "outputs": []
    },
    {
      "cell_type": "code",
      "metadata": {
        "id": "VOgkibOU5_ZI"
      },
      "source": [
        "df.info()"
      ],
      "execution_count": null,
      "outputs": []
    },
    {
      "cell_type": "code",
      "metadata": {
        "id": "De_5cu8FWsGi"
      },
      "source": [
        "df['occyp_type'].value_counts()"
      ],
      "execution_count": null,
      "outputs": []
    },
    {
      "cell_type": "markdown",
      "metadata": {
        "id": "GY_OutUZWjdA"
      },
      "source": [
        "train & test 파일에 동일하게 전처리 수행"
      ]
    },
    {
      "cell_type": "code",
      "metadata": {
        "id": "rzYWNzHhWsNO"
      },
      "source": [
        "non_occyp_test=df_test.loc[df_test['occyp_type'].isnull()] \n",
        "occyp_test=df_test.dropna() "
      ],
      "execution_count": null,
      "outputs": []
    },
    {
      "cell_type": "code",
      "metadata": {
        "id": "7_-kYZCAY-sD"
      },
      "source": [
        "non_occyp_test.info()"
      ],
      "execution_count": null,
      "outputs": []
    },
    {
      "cell_type": "code",
      "metadata": {
        "id": "O3XChiJuY-ua"
      },
      "source": [
        "occyp_test.info()"
      ],
      "execution_count": null,
      "outputs": []
    },
    {
      "cell_type": "code",
      "metadata": {
        "id": "UG0H_b8zY-wz"
      },
      "source": [
        "non_occyp_test['employeed']=[1 if t<0 else 0 for t in list(non_occyp_test['DAYS_EMPLOYED'])]"
      ],
      "execution_count": null,
      "outputs": []
    },
    {
      "cell_type": "code",
      "metadata": {
        "id": "1ew5kcCsY-zk"
      },
      "source": [
        "occyp_test['employeed']=1"
      ],
      "execution_count": null,
      "outputs": []
    },
    {
      "cell_type": "code",
      "metadata": {
        "id": "QRzH9wHmY-2U"
      },
      "source": [
        "non_occyp_test.loc[non_occyp_test['DAYS_EMPLOYED']>=0, 'DAYS_EMPLOYED'] = 0"
      ],
      "execution_count": null,
      "outputs": []
    },
    {
      "cell_type": "code",
      "metadata": {
        "id": "pCjeTcpVY-4t"
      },
      "source": [
        "non_occyp_test.loc[non_occyp_test['DAYS_EMPLOYED']>=0, 'occyp_type'] = 'Retired'"
      ],
      "execution_count": null,
      "outputs": []
    },
    {
      "cell_type": "code",
      "metadata": {
        "id": "RDbES064Y-7j"
      },
      "source": [
        "data_test=pd.concat([occyp_test,non_occyp_test])"
      ],
      "execution_count": null,
      "outputs": []
    },
    {
      "cell_type": "code",
      "metadata": {
        "id": "tF2z39VYY--I"
      },
      "source": [
        "#명목형 변수 라벨화\n",
        "label_encoder=preprocessing.LabelEncoder()\n",
        "\n",
        "data_test['gender'] = data_test['gender'].replace(['F','M'],[0,1])\n",
        "data_test['car'] = data_test['car'].replace(['N','Y'],[0,1])\n",
        "data_test['reality'] = data_test['reality'].replace(['N','Y'],[0,1])\n",
        "data_test['income_type']=label_encoder.fit_transform(data_test['income_type'])\n",
        "#################################################################\n",
        "data_test['edu_type']=label_encoder.fit_transform(data_test['edu_type'])\n",
        "########################################################################\n",
        "data_test['family_type']=label_encoder.fit_transform(data_test['family_type'])\n",
        "########################################################################\n",
        "data_test['house_type']=label_encoder.fit_transform(data_test['house_type'])\n",
        "########################################################################"
      ],
      "execution_count": null,
      "outputs": []
    },
    {
      "cell_type": "code",
      "metadata": {
        "id": "FUqFDIBeY_BA"
      },
      "source": [
        "null_data_test=data_test.loc[data_test['occyp_type'].isnull()]"
      ],
      "execution_count": null,
      "outputs": []
    },
    {
      "cell_type": "code",
      "metadata": {
        "id": "yA54vWiraO1e"
      },
      "source": [
        "fill_data_test=data_test.dropna()"
      ],
      "execution_count": null,
      "outputs": []
    },
    {
      "cell_type": "code",
      "metadata": {
        "id": "xInHFXdGaO31"
      },
      "source": [
        "fill_data_test['occyp_type_l']=label_encoder.fit_transform(fill_data_test['occyp_type'])"
      ],
      "execution_count": null,
      "outputs": []
    },
    {
      "cell_type": "code",
      "metadata": {
        "id": "MgctAe65aO6k"
      },
      "source": [
        "fill_data_test.columns"
      ],
      "execution_count": null,
      "outputs": []
    },
    {
      "cell_type": "code",
      "metadata": {
        "id": "8lIQs_RbaO9P"
      },
      "source": [
        "null_data_test.columns"
      ],
      "execution_count": null,
      "outputs": []
    },
    {
      "cell_type": "code",
      "metadata": {
        "id": "rEiOZ0KiaO_h"
      },
      "source": [
        "lin_reg_test = linear_model.LinearRegression()\n",
        "x=fill_data_test[fill_data_test.columns.drop(['index','occyp_type','employeed','occyp_type_l'])]\n",
        "# test파일에는 'credit'이 없음.\n",
        "y=fill_data_test['occyp_type_l']\n",
        "lin_reg_test_model = lin_reg_test.fit(x, y)"
      ],
      "execution_count": null,
      "outputs": []
    },
    {
      "cell_type": "code",
      "metadata": {
        "id": "R3vUIhzzaPCP"
      },
      "source": [
        "x_test=null_data_test[null_data_test.columns.drop(['index','occyp_type','employeed'])]\n",
        "y_test=null_data_test['occyp_type']\n",
        "y_test=lin_reg_test.predict(x_test)#결측치가 있는 데이터에 대입"
      ],
      "execution_count": null,
      "outputs": []
    },
    {
      "cell_type": "code",
      "metadata": {
        "id": "o0tWBrjiaPEz"
      },
      "source": [
        "null_data_test['occyp_type']=y_test"
      ],
      "execution_count": null,
      "outputs": []
    },
    {
      "cell_type": "code",
      "metadata": {
        "id": "fpvVdDKzaPHV"
      },
      "source": [
        "null_data_test['occyp_type'].value_counts()"
      ],
      "execution_count": null,
      "outputs": []
    },
    {
      "cell_type": "code",
      "metadata": {
        "id": "CfGFToGQY_Df"
      },
      "source": [
        "print(y[:10])"
      ],
      "execution_count": null,
      "outputs": []
    },
    {
      "cell_type": "code",
      "metadata": {
        "id": "_3wdjIQeb6OR"
      },
      "source": [
        "fill_data_test['occyp_type'].value_counts()"
      ],
      "execution_count": null,
      "outputs": []
    },
    {
      "cell_type": "code",
      "metadata": {
        "id": "Tpm0MFcIb6Qf"
      },
      "source": [
        "np.round(y_test,0)"
      ],
      "execution_count": null,
      "outputs": []
    },
    {
      "cell_type": "code",
      "metadata": {
        "id": "C-chqGKUb6S-"
      },
      "source": [
        "null_data_test['occyp_type']=np.round(null_data_test['occyp_type'],0)"
      ],
      "execution_count": null,
      "outputs": []
    },
    {
      "cell_type": "code",
      "metadata": {
        "id": "s-MUzzjGb6Va"
      },
      "source": [
        "null_data_test['occyp_type'].value_counts()"
      ],
      "execution_count": null,
      "outputs": []
    },
    {
      "cell_type": "code",
      "metadata": {
        "id": "iX94EFKKb6X-"
      },
      "source": [
        "#라벨링->원래값\n",
        "null_data_test.loc[null_data_test['occyp_type']==2.0,'occyp_type']= 'Cooking staff'\n",
        "null_data_test.loc[null_data_test['occyp_type']==3.0,'occyp_type']='Core staff'\n",
        "null_data_test.loc[null_data_test['occyp_type']==4.0,'occyp_type']='Drivers'\n",
        "null_data_test.loc[null_data_test['occyp_type']==5.0,'occyp_type']='HR staff'\n",
        "null_data_test.loc[null_data_test['occyp_type']==6.0,'occyp_type']='High skill tech staff'\n",
        "null_data_test.loc[null_data_test['occyp_type']==7.0,'occyp_type']='IT staff'\n",
        "null_data_test.loc[null_data_test['occyp_type']==8.0,'occyp_type']='Laborers'\n",
        "null_data_test.loc[null_data_test['occyp_type']==9.0,'occyp_type']='Low-skill Laborers'\n",
        "null_data_test.loc[null_data_test['occyp_type']==10.0,'occyp_type']='Managers'\n",
        "null_data_test.loc[null_data_test['occyp_type']==11.0,'occyp_type']='Medicine staff'\n",
        "null_data_test.loc[null_data_test['occyp_type']==12.0,'occyp_type']='Private service staff'\n",
        "null_data_test.loc[null_data_test['occyp_type']==13.0,'occyp_type']='Realty agents'\n",
        "null_data_test.loc[null_data_test['occyp_type']==14.0,'occyp_type']='Sales staff'\n",
        "null_data_test.loc[null_data_test['occyp_type']==15.0,'occyp_type']='Secretaries'\n",
        "null_data_test.loc[null_data_test['occyp_type']==16.0,'occyp_type']='Security staff'"
      ],
      "execution_count": null,
      "outputs": []
    },
    {
      "cell_type": "code",
      "metadata": {
        "id": "oQC7grILb6aW"
      },
      "source": [
        "fill_data_test=fill_data_test.drop('occyp_type_l',axis=1)"
      ],
      "execution_count": null,
      "outputs": []
    },
    {
      "cell_type": "code",
      "metadata": {
        "id": "XQcXRQbsb6c6"
      },
      "source": [
        "df_test=pd.concat([null_data_test,fill_data_test]).sort_values(by='index')\n",
        "df_test.head()"
      ],
      "execution_count": null,
      "outputs": []
    },
    {
      "cell_type": "code",
      "metadata": {
        "id": "0mHZ0Lqyb6fe"
      },
      "source": [
        "df_test.isnull().sum()"
      ],
      "execution_count": null,
      "outputs": []
    },
    {
      "cell_type": "code",
      "metadata": {
        "id": "FBawS8uldioH"
      },
      "source": [
        "train = df.drop('employeed', axis=1)"
      ],
      "execution_count": null,
      "outputs": []
    },
    {
      "cell_type": "code",
      "metadata": {
        "id": "Qyhv6_BGe9TF"
      },
      "source": [
        "train.info()"
      ],
      "execution_count": null,
      "outputs": []
    },
    {
      "cell_type": "code",
      "metadata": {
        "id": "KV6ilij8diq3"
      },
      "source": [
        "test = df_test.drop('employeed', axis=1)"
      ],
      "execution_count": null,
      "outputs": []
    },
    {
      "cell_type": "code",
      "metadata": {
        "id": "BMBA5O2SfAhH"
      },
      "source": [
        "test.info()"
      ],
      "execution_count": null,
      "outputs": []
    },
    {
      "cell_type": "markdown",
      "metadata": {
        "id": "-22FXkco5r4t"
      },
      "source": [
        "# **2. 인코딩(베이스 코드 라인)**"
      ]
    },
    {
      "cell_type": "markdown",
      "metadata": {
        "id": "5VOFdMb9QLml"
      },
      "source": [
        "## 2.1 Binary variables (앞서 regression에서 수행했기에 생략가능)"
      ]
    },
    {
      "cell_type": "code",
      "metadata": {
        "id": "_HLNwG6plOCM"
      },
      "source": [
        "train['gender'] = train['gender'].replace(['F','M'],[0,1])\n",
        "test['gender'] = test['gender'].replace(['F','M'],[0,1])\n",
        "print('gender :')\n",
        "print(train['gender'].value_counts())\n",
        "print('--------------')\n",
        "\n",
        "print('Having a car or not : ')\n",
        "train['car'] = train['car'].replace(['N','Y'],[0,1])\n",
        "test['car'] = test['car'].replace(['N','Y'],[0,1])\n",
        "print(train['car'].value_counts())\n",
        "print('--------------')\n",
        "\n",
        "print('Having house reality or not: ')\n",
        "train['reality'] = train['reality'].replace(['N','Y'],[0,1])\n",
        "test['reality'] = test['reality'].replace(['N','Y'],[0,1])\n",
        "print(train['reality'].value_counts())\n",
        "print('--------------')\n",
        "      \n",
        "print('Having a phone or not: ')\n",
        "print(train['phone'].value_counts())\n",
        "print('--------------')\n",
        "      \n",
        "print('Having a email or not: ')\n",
        "print(train['email'].value_counts())\n",
        "print('--------------')\n",
        "      \n",
        "print('Having a work phone or not: ')\n",
        "print(train['work_phone'].value_counts())\n",
        "print('--------------')"
      ],
      "execution_count": null,
      "outputs": []
    },
    {
      "cell_type": "markdown",
      "metadata": {
        "id": "aL0zjgy-QP2c"
      },
      "source": [
        "## 2.2 continuous variables"
      ]
    },
    {
      "cell_type": "markdown",
      "metadata": {
        "id": "d-kgkwyymDuT"
      },
      "source": [
        "### (1) child_num"
      ]
    },
    {
      "cell_type": "code",
      "metadata": {
        "id": "lNzVOAgMlOsU"
      },
      "source": [
        "train['child_num'].value_counts(sort=False).plot.bar()"
      ],
      "execution_count": null,
      "outputs": []
    },
    {
      "cell_type": "code",
      "metadata": {
        "id": "AyVmg-33lOu5"
      },
      "source": [
        "train.loc[train['child_num'] >= 2,'child_num']=2\n",
        "test.loc[test['child_num']>=2, 'child_num']=2"
      ],
      "execution_count": null,
      "outputs": []
    },
    {
      "cell_type": "markdown",
      "metadata": {
        "id": "DCTrJPoUmSPk"
      },
      "source": [
        "### (2) inc"
      ]
    },
    {
      "cell_type": "code",
      "metadata": {
        "id": "z9mM45uylOxu"
      },
      "source": [
        "train['income_total'] = train['income_total'].astype(object)\n",
        "train['income_total'] = train['income_total']/10000 \n",
        "test['income_total'] = test['income_total']/10000\n",
        "##############################################################3\n",
        "print(train['income_total'].value_counts(bins=10,sort=False))\n",
        "train['income_total'].plot(kind='hist',bins=50,density=True)"
      ],
      "execution_count": null,
      "outputs": []
    },
    {
      "cell_type": "code",
      "metadata": {
        "id": "wEpTd2jglO0R"
      },
      "source": [
        "count, bin_dividers =np.histogram(train['income_total'], bins=7)\n",
        "bin_names=['소득'+str(i) for i in range(7) ]\n",
        "#bin_dividers는 train기준!!\n",
        "train['income_total']=pd.cut(x=train['income_total'], bins=bin_dividers, labels=bin_names, include_lowest=True)\n",
        "test['income_total']=pd.cut(x=test['income_total'], bins=bin_dividers, labels=bin_names, include_lowest=True)"
      ],
      "execution_count": null,
      "outputs": []
    },
    {
      "cell_type": "markdown",
      "metadata": {
        "id": "9CK_V0HlmcpQ"
      },
      "source": [
        "### (3) type "
      ]
    },
    {
      "cell_type": "code",
      "metadata": {
        "id": "NIfORb9xlO3I"
      },
      "source": [
        "print(train['income_type'].unique())\n",
        "print(train['edu_type'].unique())\n",
        "print(train['family_type'].unique())\n",
        "print(train['house_type'].unique())"
      ],
      "execution_count": null,
      "outputs": []
    },
    {
      "cell_type": "code",
      "metadata": {
        "id": "EDHs7RStmkJx"
      },
      "source": [
        "from sklearn import preprocessing\n",
        "label_encoder=preprocessing.LabelEncoder()\n",
        "\n",
        "train['income_type']=label_encoder.fit_transform(train['income_type'])\n",
        "test['income_type']=label_encoder.transform(test['income_type'])\n",
        "########################################################################\n",
        "train['edu_type']=label_encoder.fit_transform(train['edu_type'])\n",
        "test['edu_type']=label_encoder.transform(test['edu_type'])\n",
        "########################################################################\n",
        "train['family_type']=label_encoder.fit_transform(train['family_type'])\n",
        "test['family_type']=label_encoder.transform(test['family_type'])\n",
        "########################################################################\n",
        "train['house_type']=label_encoder.fit_transform(train['house_type'])\n",
        "test['house_type']=label_encoder.transform(test['house_type'])\n",
        "########################################################################\n",
        "train['income_total']=label_encoder.fit_transform(train['income_total'])\n",
        "test['income_total']=label_encoder.fit_transform(test['income_total'])\n",
        "########################################################################\n",
        "train['occyp_type']=label_encoder.fit_transform(train['occyp_type'])\n",
        "test['occyp_type']=label_encoder.fit_transform(test['occyp_type'])\n",
        "########################################################################"
      ],
      "execution_count": null,
      "outputs": []
    },
    {
      "cell_type": "markdown",
      "metadata": {
        "id": "ijBv_wi-QfOc"
      },
      "source": [
        "## 2.3 minus continuous variable"
      ]
    },
    {
      "cell_type": "code",
      "metadata": {
        "id": "wN0DG2YnlPcb"
      },
      "source": [
        "#minus 변경하고\n",
        "#구간화 함수\n",
        "def make_bin(variable, n):\n",
        "    train[variable]=-train[variable]\n",
        "    test[variable]=-test[variable]\n",
        "    count, bin_dividers =np.histogram(train[variable], bins=n) #train의 구간화를 적용\n",
        "    bin_names=[str(i) for i in range(n)]\n",
        "    train[variable]=pd.cut(x=train[variable], bins=bin_dividers, labels=bin_names, include_lowest=True)\n",
        "    test[variable]=pd.cut(x=test[variable], bins=bin_dividers, labels=bin_names, include_lowest=True)\n",
        "    test[variable].fillna(str(0), inplace=True) #test에는 없는 것을 임의의 값으로 채움\n",
        "    ##########################################################\n",
        "    train[variable]=label_encoder.fit_transform(train[variable])\n",
        "    test[variable]=label_encoder.transform(test[variable])"
      ],
      "execution_count": null,
      "outputs": []
    },
    {
      "cell_type": "code",
      "metadata": {
        "id": "8FNv2IMjlPe4"
      },
      "source": [
        "make_bin('DAYS_BIRTH', n=10)\n",
        "make_bin('DAYS_EMPLOYED', n=6)\n",
        "make_bin('begin_month', n=4)"
      ],
      "execution_count": null,
      "outputs": []
    },
    {
      "cell_type": "code",
      "metadata": {
        "id": "BbfuI9xy-fsE"
      },
      "source": [
        ""
      ],
      "execution_count": null,
      "outputs": []
    },
    {
      "cell_type": "markdown",
      "metadata": {
        "id": "uLWKr1QK1OcQ"
      },
      "source": [
        "## train & test 준비완료"
      ]
    },
    {
      "cell_type": "code",
      "metadata": {
        "id": "PkCN7OEs-fuM"
      },
      "source": [
        "train"
      ],
      "execution_count": null,
      "outputs": []
    },
    {
      "cell_type": "code",
      "metadata": {
        "id": "8pELnTLo-fw1"
      },
      "source": [
        "test"
      ],
      "execution_count": null,
      "outputs": []
    },
    {
      "cell_type": "markdown",
      "metadata": {
        "id": "b1K_pklQ50FP"
      },
      "source": [
        "# **3. 모델링(추후 논의 필요)**"
      ]
    },
    {
      "cell_type": "markdown",
      "metadata": {
        "id": "tJ7_Bo0eX2R2"
      },
      "source": [
        "## 3.0 RandomForestClassifier (베이스코드라인)"
      ]
    },
    {
      "cell_type": "code",
      "metadata": {
        "id": "E3PmjJ3BX_Ny"
      },
      "source": [
        "train_x=train.drop('credit', axis=1)\n",
        "train_y=train[['credit']]\n",
        "test_x=test"
      ],
      "execution_count": null,
      "outputs": []
    },
    {
      "cell_type": "code",
      "metadata": {
        "id": "Xpd_l7LPX_QN"
      },
      "source": [
        "print(train_x.shape, train_y.shape, test.shape)"
      ],
      "execution_count": null,
      "outputs": []
    },
    {
      "cell_type": "code",
      "metadata": {
        "id": "b9AbOiO8X_T1"
      },
      "source": [
        "from sklearn.ensemble import RandomForestClassifier\n",
        "from sklearn.metrics import accuracy_score, log_loss\n",
        "from sklearn.metrics import f1_score\n",
        "from tensorflow.keras.utils import to_categorical\n",
        "from sklearn.model_selection import train_test_split\n",
        "\n",
        "X_train, X_val, y_train, y_val = train_test_split(train_x, train_y, \n",
        "                                                  stratify=train_y, test_size=0.25, random_state = 10086)\n",
        "\n",
        "print(\"Train set: \")\n",
        "print(X_train.shape)\n",
        "print(y_train.shape)\n",
        "print(\"===========\")\n",
        "print(\"Validation set: \")\n",
        "print(X_val.shape)\n",
        "print(y_val.shape)\n",
        "\n",
        "\n",
        "clf=RandomForestClassifier()\n",
        "clf.fit(X_train, y_train)\n",
        "y_pred=clf.predict_proba(X_val)\n",
        "\n",
        "print(f\"log_loss: {log_loss(to_categorical(y_val['credit']), y_pred)}\")"
      ],
      "execution_count": null,
      "outputs": []
    },
    {
      "cell_type": "code",
      "metadata": {
        "id": "0Blv4M9nX_WB"
      },
      "source": [
        "from sklearn.model_selection import KFold, StratifiedKFold\n",
        "\n",
        "def run_kfold(clf):\n",
        "    folds=StratifiedKFold(n_splits=5, shuffle=True, random_state=55)\n",
        "    outcomes=[]\n",
        "    sub=np.zeros((test_x.shape[0], 3))  \n",
        "    for n_fold, (train_index, val_index) in enumerate(folds.split(train_x, train_y)):\n",
        "        X_train, X_val = train_x.iloc[train_index], train_x.iloc[val_index]\n",
        "        y_train, y_val = train_y.iloc[train_index], train_y.iloc[val_index]\n",
        "        clf.fit(X_train, y_train)\n",
        "        \n",
        "        predictions=clf.predict_proba(X_val)\n",
        "        \n",
        "        logloss=log_loss(to_categorical(y_val['credit']), predictions)\n",
        "        outcomes.append(logloss)\n",
        "        print(f\"FOLD {n_fold} : logloss:{logloss}\")\n",
        "        \n",
        "        sub+=clf.predict_proba(test_x)\n",
        "        \n",
        "        \n",
        "    mean_outcome=np.mean(outcomes)\n",
        "    \n",
        "    print(\"Mean:{}\".format(mean_outcome))\n",
        "    return sub/folds.n_splits\n",
        "\n",
        "my_submission = run_kfold(clf)"
      ],
      "execution_count": null,
      "outputs": []
    },
    {
      "cell_type": "code",
      "metadata": {
        "id": "HgrpSVbPX_Yr"
      },
      "source": [
        "my_submission"
      ],
      "execution_count": null,
      "outputs": []
    },
    {
      "cell_type": "code",
      "metadata": {
        "id": "ud6ol2YBX_bP"
      },
      "source": [
        "submission"
      ],
      "execution_count": null,
      "outputs": []
    },
    {
      "cell_type": "code",
      "metadata": {
        "id": "yhLki9uCX_eA"
      },
      "source": [
        "submission.loc[:,1:]=my_submission"
      ],
      "execution_count": null,
      "outputs": []
    },
    {
      "cell_type": "code",
      "metadata": {
        "id": "jfO626sSX_gY"
      },
      "source": [
        "submission"
      ],
      "execution_count": null,
      "outputs": []
    },
    {
      "cell_type": "code",
      "metadata": {
        "id": "XTOHlCu7X_jV"
      },
      "source": [
        ""
      ],
      "execution_count": null,
      "outputs": []
    },
    {
      "cell_type": "markdown",
      "metadata": {
        "id": "cgDG89f_SOgW"
      },
      "source": [
        "## 3.1 decision tree"
      ]
    },
    {
      "cell_type": "markdown",
      "metadata": {
        "id": "L7y5AbinSVcV"
      },
      "source": [
        "## 3.2 CNN"
      ]
    },
    {
      "cell_type": "markdown",
      "metadata": {
        "id": "Ggxc-rilSX3A"
      },
      "source": [
        "## 3.3 LSTN"
      ]
    },
    {
      "cell_type": "markdown",
      "metadata": {
        "id": "4kVaMR0_Sdqg"
      },
      "source": [
        "## 3.4 XGBoost / Catboost / randomforest 등등"
      ]
    },
    {
      "cell_type": "code",
      "metadata": {
        "id": "yp0QsEh9-gX1"
      },
      "source": [
        ""
      ],
      "execution_count": null,
      "outputs": []
    },
    {
      "cell_type": "code",
      "metadata": {
        "id": "me3wTVZSS2OD"
      },
      "source": [
        ""
      ],
      "execution_count": null,
      "outputs": []
    },
    {
      "cell_type": "code",
      "metadata": {
        "id": "Z_UmwyFUS2QO"
      },
      "source": [
        ""
      ],
      "execution_count": null,
      "outputs": []
    },
    {
      "cell_type": "code",
      "metadata": {
        "id": "sG-3kN41-gaV"
      },
      "source": [
        ""
      ],
      "execution_count": null,
      "outputs": []
    },
    {
      "cell_type": "code",
      "metadata": {
        "id": "Zhk32GPa-gc2"
      },
      "source": [
        ""
      ],
      "execution_count": null,
      "outputs": []
    },
    {
      "cell_type": "markdown",
      "metadata": {
        "id": "7D7Qz10o-Q1u"
      },
      "source": [
        "# **4. 결과비교**"
      ]
    },
    {
      "cell_type": "code",
      "metadata": {
        "id": "Y9aAVy9x-g6G"
      },
      "source": [
        ""
      ],
      "execution_count": null,
      "outputs": []
    },
    {
      "cell_type": "code",
      "metadata": {
        "id": "bbu6OeqRS22m"
      },
      "source": [
        ""
      ],
      "execution_count": null,
      "outputs": []
    },
    {
      "cell_type": "code",
      "metadata": {
        "id": "ja4JOan7S25I"
      },
      "source": [
        ""
      ],
      "execution_count": null,
      "outputs": []
    },
    {
      "cell_type": "code",
      "metadata": {
        "id": "5z6sau3s-g8k"
      },
      "source": [
        ""
      ],
      "execution_count": null,
      "outputs": []
    },
    {
      "cell_type": "code",
      "metadata": {
        "id": "z2hKd31n-g_M"
      },
      "source": [
        ""
      ],
      "execution_count": null,
      "outputs": []
    }
  ]
}