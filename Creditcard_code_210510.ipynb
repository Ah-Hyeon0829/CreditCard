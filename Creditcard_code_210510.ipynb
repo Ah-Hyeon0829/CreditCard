{
  "nbformat": 4,
  "nbformat_minor": 0,
  "metadata": {
    "colab": {
      "name": "Creditcard_code_210510.ipynb",
      "private_outputs": true,
      "provenance": [],
      "toc_visible": true,
      "machine_shape": "hm"
    },
    "kernelspec": {
      "name": "python3",
      "display_name": "Python 3"
    },
    "language_info": {
      "name": "python"
    },
    "accelerator": "GPU"
  },
  "cells": [
    {
      "cell_type": "markdown",
      "metadata": {
        "id": "rP83saI77EjV"
      },
      "source": [
        "# **신용카드 사용자 연체 예측 AI 경진대회**\n",
        "\n",
        "---\n",
        "\n"
      ]
    },
    {
      "cell_type": "markdown",
      "metadata": {
        "id": "tkvgTUBV5a_l"
      },
      "source": [
        "# **0. 라이브러리 설치 및 불러오기**"
      ]
    },
    {
      "cell_type": "code",
      "metadata": {
        "id": "zNj1VBWu559j"
      },
      "source": [
        "import pandas as pd\n",
        "import numpy as np\n",
        "import tensorflow as tf\n",
        "\n",
        "import matplotlib.pyplot as plt\n",
        "import seaborn as sns\n",
        "import plotly.io as pio\n",
        "import plotly.express as px\n",
        "import plotly.graph_objects as go\n",
        "\n",
        "from keras.models import Model\n",
        "from keras.models import Sequential\n",
        "from keras.layers import Input, Dense, Embedding, SpatialDropout1D, add, concatenate\n",
        "from keras.layers import Bidirectional, GlobalMaxPooling1D, GlobalAveragePooling1D\n",
        "from keras.layers import LSTM\n",
        "from keras.layers import BatchNormalization\n",
        "from tensorflow.keras.layers import Dense, Embedding, Bidirectional, LSTM, Concatenate, Dropout\n",
        "from tensorflow.keras import Input, Model\n",
        "from tensorflow.keras import optimizers\n",
        "from keras.preprocessing import text, sequence\n",
        "from keras.callbacks import LearningRateScheduler\n",
        "from keras.optimizers import RMSprop, Adadelta, Adam\n",
        "from sklearn import preprocessing\n"
      ],
      "execution_count": null,
      "outputs": []
    },
    {
      "cell_type": "code",
      "metadata": {
        "id": "R9a0JHhY56I3"
      },
      "source": [
        "from google.colab import drive\n",
        "drive.mount('/content/drive')"
      ],
      "execution_count": null,
      "outputs": []
    },
    {
      "cell_type": "code",
      "metadata": {
        "id": "b7UEvpw356a1"
      },
      "source": [
        "import os\n",
        "os.chdir('/content/drive/MyDrive/data/credit')"
      ],
      "execution_count": null,
      "outputs": []
    },
    {
      "cell_type": "code",
      "metadata": {
        "id": "IwlPcaPeBko2"
      },
      "source": [
        "train=pd.read_csv('train.csv')\n",
        "test=pd.read_csv('test.csv')\n",
        "submission=pd.read_csv('sample_submission.csv')"
      ],
      "execution_count": null,
      "outputs": []
    },
    {
      "cell_type": "code",
      "metadata": {
        "id": "K92JE9uv54b8"
      },
      "source": [
        "df_train=train.copy()\n",
        "df_test=test.copy()"
      ],
      "execution_count": null,
      "outputs": []
    },
    {
      "cell_type": "markdown",
      "metadata": {
        "id": "f-00Rjf65i6U"
      },
      "source": [
        "# **1. 데이터 전처리 & EDA**\n",
        "\n",
        "\n",
        "\n",
        "\n",
        "\n"
      ]
    },
    {
      "cell_type": "markdown",
      "metadata": {
        "id": "6VcPBr248tK9"
      },
      "source": [
        "## 1.1 데이터 살펴보기 \n"
      ]
    },
    {
      "cell_type": "code",
      "metadata": {
        "id": "20sG8fGe-dgM"
      },
      "source": [
        "df_train.head()"
      ],
      "execution_count": null,
      "outputs": []
    },
    {
      "cell_type": "code",
      "metadata": {
        "id": "w0dQbrgq-d9Y"
      },
      "source": [
        "df_train.info()"
      ],
      "execution_count": null,
      "outputs": []
    },
    {
      "cell_type": "code",
      "metadata": {
        "id": "CFVfJPRL_2O9"
      },
      "source": [
        "df_test.head()"
      ],
      "execution_count": null,
      "outputs": []
    },
    {
      "cell_type": "code",
      "metadata": {
        "id": "U6lNI_cm_577"
      },
      "source": [
        "df_test.info()"
      ],
      "execution_count": null,
      "outputs": []
    },
    {
      "cell_type": "markdown",
      "metadata": {
        "id": "MsvHpt0l8zzu"
      },
      "source": [
        "## 1.2 데이터 전처리"
      ]
    },
    {
      "cell_type": "code",
      "metadata": {
        "id": "0Spr5PjTgiv3"
      },
      "source": [
        "df_train.isnull().sum()"
      ],
      "execution_count": null,
      "outputs": []
    },
    {
      "cell_type": "markdown",
      "metadata": {
        "id": "fgaqRr4DgkbI"
      },
      "source": [
        "'occyp_type' 항목에서 결측치가 30% 존재.   \n",
        "단순 제거하기엔 너무 많은 수치라 판단하여 대체할 수 있는 방안을 모색함\n",
        "\n"
      ]
    },
    {
      "cell_type": "markdown",
      "metadata": {
        "id": "DtFWMU2YPMQc"
      },
      "source": [
        "### 1.2.1 imputataion of missing values\n"
      ]
    },
    {
      "cell_type": "markdown",
      "metadata": {
        "id": "oIEzDVcnp3_W"
      },
      "source": [
        "#### (1) pension"
      ]
    },
    {
      "cell_type": "markdown",
      "metadata": {
        "id": "wSlnqtxTIJdV"
      },
      "source": [
        "'occyp_type' 항목에서 결측치의 특성을 알아보기 위해 non_occyp 및 occyp 지정"
      ]
    },
    {
      "cell_type": "code",
      "metadata": {
        "id": "wcKuI0B7-ehE"
      },
      "source": [
        "non_occyp=df_train.loc[df_train['occyp_type'].isnull()] #직업유형이 없는 사람\n",
        "occyp=df_train.dropna() #직업유형이 있는 사람(결측치 제거)"
      ],
      "execution_count": null,
      "outputs": []
    },
    {
      "cell_type": "code",
      "metadata": {
        "id": "iA8a1sgf6b99"
      },
      "source": [
        "occyp.info()"
      ],
      "execution_count": null,
      "outputs": []
    },
    {
      "cell_type": "code",
      "metadata": {
        "id": "j_i3AQQI6iyE"
      },
      "source": [
        "non_occyp.info()"
      ],
      "execution_count": null,
      "outputs": []
    },
    {
      "cell_type": "code",
      "metadata": {
        "id": "l6bY-3CY-em1"
      },
      "source": [
        "#양수인 부분이 4438개->고용된 사람과 그렇지 않은 사람이 존재한다.\n",
        "non_occyp['DAYS_EMPLOYED'].value_counts()"
      ],
      "execution_count": null,
      "outputs": []
    },
    {
      "cell_type": "code",
      "metadata": {
        "id": "1c-SKNHs7GoJ"
      },
      "source": [
        "non_occyp.loc[non_occyp['DAYS_EMPLOYED']>=0, 'DAYS_EMPLOYED'] = 0"
      ],
      "execution_count": null,
      "outputs": []
    },
    {
      "cell_type": "code",
      "metadata": {
        "id": "qRESD-weiwtZ"
      },
      "source": [
        "non_occyp.loc[non_occyp['DAYS_EMPLOYED']>=0, 'occyp_type'] = 'Retired'\n",
        "non_occyp.head()"
      ],
      "execution_count": null,
      "outputs": []
    },
    {
      "cell_type": "code",
      "metadata": {
        "id": "mdtvsFAMrJ9s"
      },
      "source": [
        "occyp['DAYS_BIRTH'] = occyp['DAYS_BIRTH'] // -365\n",
        "non_occyp['DAYS_BIRTH'] = non_occyp['DAYS_BIRTH'] // -365"
      ],
      "execution_count": null,
      "outputs": []
    },
    {
      "cell_type": "code",
      "metadata": {
        "id": "g2mdAIsJBhcc"
      },
      "source": [
        "sns.displot(occyp['DAYS_BIRTH'])"
      ],
      "execution_count": null,
      "outputs": []
    },
    {
      "cell_type": "code",
      "metadata": {
        "id": "hTTVyFmFrKC8"
      },
      "source": [
        "sns.displot(non_occyp['DAYS_BIRTH'])"
      ],
      "execution_count": null,
      "outputs": []
    },
    {
      "cell_type": "code",
      "metadata": {
        "id": "VeKOlhsKrKFv"
      },
      "source": [
        "bins = list(range(0,80,10))\n",
        "print(bins)\n",
        "bins_label = [str(x)+\"s\"  for x in bins]"
      ],
      "execution_count": null,
      "outputs": []
    },
    {
      "cell_type": "code",
      "metadata": {
        "id": "ZXO01ji01OQC"
      },
      "source": [
        "occyp['DAYS_BIRTH'] = pd.cut(occyp['DAYS_BIRTH'],bins, right=False, labels = bins_label[:-1])\n",
        "non_occyp['DAYS_BIRTH'] = pd.cut(non_occyp['DAYS_BIRTH'],bins, right=False, labels = bins_label[:-1])"
      ],
      "execution_count": null,
      "outputs": []
    },
    {
      "cell_type": "code",
      "metadata": {
        "id": "47nq_DS4D0Cx"
      },
      "source": [
        "sns.countplot(x=\"DAYS_BIRTH\", data=occyp)\n",
        "plt.title(\"DAYS_BIRTH distribution\")\n",
        "plt.show()"
      ],
      "execution_count": null,
      "outputs": []
    },
    {
      "cell_type": "code",
      "metadata": {
        "id": "MyQyCWM41OSf"
      },
      "source": [
        "sns.countplot(x=\"DAYS_BIRTH\", data=non_occyp)\n",
        "plt.title(\"DAYS_BIRTH distribution\")\n",
        "plt.show()"
      ],
      "execution_count": null,
      "outputs": []
    },
    {
      "cell_type": "code",
      "metadata": {
        "id": "xn_FsGwO1cCw"
      },
      "source": [
        "non_occyp[['income_type','occyp_type']].value_counts()"
      ],
      "execution_count": null,
      "outputs": []
    },
    {
      "cell_type": "markdown",
      "metadata": {
        "id": "NOFTQdp2JNmH"
      },
      "source": [
        "위에 지정한 'Retired'는 전부 pensioner임을 알 수 있음."
      ]
    },
    {
      "cell_type": "code",
      "metadata": {
        "id": "ljDyCqod1cFg"
      },
      "source": [
        "occyp[['income_type','occyp_type']].value_counts()"
      ],
      "execution_count": null,
      "outputs": []
    },
    {
      "cell_type": "code",
      "metadata": {
        "id": "ughMYFIH1cIp"
      },
      "source": [
        ""
      ],
      "execution_count": null,
      "outputs": []
    },
    {
      "cell_type": "code",
      "metadata": {
        "id": "5qHwJ6SNiwyb"
      },
      "source": [
        ""
      ],
      "execution_count": null,
      "outputs": []
    },
    {
      "cell_type": "code",
      "metadata": {
        "id": "vbVDlgQViw1E"
      },
      "source": [
        ""
      ],
      "execution_count": null,
      "outputs": []
    },
    {
      "cell_type": "code",
      "metadata": {
        "id": "GNcmwzZxiw3e"
      },
      "source": [
        ""
      ],
      "execution_count": null,
      "outputs": []
    },
    {
      "cell_type": "code",
      "metadata": {
        "id": "IGj6adT_iw6D"
      },
      "source": [
        ""
      ],
      "execution_count": null,
      "outputs": []
    },
    {
      "cell_type": "code",
      "metadata": {
        "id": "x9BABQDyiw8g"
      },
      "source": [
        ""
      ],
      "execution_count": null,
      "outputs": []
    },
    {
      "cell_type": "code",
      "metadata": {
        "id": "RFBiZCxKiw_Z"
      },
      "source": [
        ""
      ],
      "execution_count": null,
      "outputs": []
    },
    {
      "cell_type": "code",
      "metadata": {
        "id": "Oclt2_-rixCB"
      },
      "source": [
        "df_train.loc[df_train['DAYS_EMPLOYED']>=0, 'occyp_type'] = 'Retired'\n",
        "df_train.info()\n",
        "# df_test도 아마 비슷할 듯?"
      ],
      "execution_count": null,
      "outputs": []
    },
    {
      "cell_type": "markdown",
      "metadata": {
        "id": "l5LUWfSIp770"
      },
      "source": [
        "#### (2) regreesion"
      ]
    },
    {
      "cell_type": "code",
      "metadata": {
        "id": "eDGDMaCaiwvy"
      },
      "source": [
        "#결측값 중 고용된 사람 중에서 소득분류 분포\n",
        "non_occyp.loc[non_occyp['employeed']==1]['income_type'].value_counts()"
      ],
      "execution_count": null,
      "outputs": []
    },
    {
      "cell_type": "markdown",
      "metadata": {
        "id": "AYczZTmjqkER"
      },
      "source": [
        "### 1.2.2 중복데이터 문제"
      ]
    },
    {
      "cell_type": "markdown",
      "metadata": {
        "id": "-22FXkco5r4t"
      },
      "source": [
        "# **2. 인코딩(추후 논의 필요)**"
      ]
    },
    {
      "cell_type": "markdown",
      "metadata": {
        "id": "5VOFdMb9QLml"
      },
      "source": [
        "## 2.1 Binary variables"
      ]
    },
    {
      "cell_type": "code",
      "metadata": {
        "id": "_HLNwG6plOCM"
      },
      "source": [
        "train['gender'] = train['gender'].replace(['F','M'],[0,1])\n",
        "test['gender'] = test['gender'].replace(['F','M'],[0,1])\n",
        "print('gender :')\n",
        "print(train['gender'].value_counts())\n",
        "print('--------------')\n",
        "\n",
        "print('Having a car or not : ')\n",
        "train['car'] = train['car'].replace(['N','Y'],[0,1])\n",
        "test['car'] = test['car'].replace(['N','Y'],[0,1])\n",
        "print(train['car'].value_counts())\n",
        "print('--------------')\n",
        "\n",
        "print('Having house reality or not: ')\n",
        "train['reality'] = train['reality'].replace(['N','Y'],[0,1])\n",
        "test['reality'] = test['reality'].replace(['N','Y'],[0,1])\n",
        "print(train['reality'].value_counts())\n",
        "print('--------------')\n",
        "      \n",
        "print('Having a phone or not: ')\n",
        "print(train['phone'].value_counts())\n",
        "print('--------------')\n",
        "      \n",
        "\n",
        "print('Having a email or not: ')\n",
        "print(train['email'].value_counts())\n",
        "print('--------------')\n",
        "      \n",
        "\n",
        "print('Having a work phone or not: ')\n",
        "print(train['work_phone'].value_counts())\n",
        "print('--------------')"
      ],
      "execution_count": null,
      "outputs": []
    },
    {
      "cell_type": "markdown",
      "metadata": {
        "id": "aL0zjgy-QP2c"
      },
      "source": [
        "## 2.2 continuous variables"
      ]
    },
    {
      "cell_type": "markdown",
      "metadata": {
        "id": "d-kgkwyymDuT"
      },
      "source": [
        "### (1) child_num"
      ]
    },
    {
      "cell_type": "code",
      "metadata": {
        "id": "lNzVOAgMlOsU"
      },
      "source": [
        "train['child_num'].value_counts(sort=False).plot.bar()"
      ],
      "execution_count": null,
      "outputs": []
    },
    {
      "cell_type": "code",
      "metadata": {
        "id": "AyVmg-33lOu5"
      },
      "source": [
        "train.loc[train['child_num'] >= 2,'child_num']=2\n",
        "test.loc[test['child_num']>=2, 'child_num']=2"
      ],
      "execution_count": null,
      "outputs": []
    },
    {
      "cell_type": "markdown",
      "metadata": {
        "id": "DCTrJPoUmSPk"
      },
      "source": [
        "### (2) inc"
      ]
    },
    {
      "cell_type": "code",
      "metadata": {
        "id": "z9mM45uylOxu"
      },
      "source": [
        "train['income_total'] = train['income_total'].astype(object)\n",
        "train['income_total'] = train['income_total']/10000 \n",
        "test['income_total'] = test['income_total']/10000\n",
        "##############################################################3\n",
        "print(train['income_total'].value_counts(bins=10,sort=False))\n",
        "train['income_total'].plot(kind='hist',bins=50,density=True)"
      ],
      "execution_count": null,
      "outputs": []
    },
    {
      "cell_type": "code",
      "metadata": {
        "id": "wEpTd2jglO0R"
      },
      "source": [
        "count, bin_dividers =np.histogram(train['income_total'], bins=7)\n",
        "bin_names=['소득'+str(i) for i in range(7) ]\n",
        "#bin_dividers는 train기준!!\n",
        "train['income_total']=pd.cut(x=train['income_total'], bins=bin_dividers, labels=bin_names, include_lowest=True)\n",
        "test['income_total']=pd.cut(x=test['income_total'], bins=bin_dividers, labels=bin_names, include_lowest=True)"
      ],
      "execution_count": null,
      "outputs": []
    },
    {
      "cell_type": "markdown",
      "metadata": {
        "id": "9CK_V0HlmcpQ"
      },
      "source": [
        "### (3) type"
      ]
    },
    {
      "cell_type": "code",
      "metadata": {
        "id": "NIfORb9xlO3I"
      },
      "source": [
        "print(train['income_type'].unique())\n",
        "print(train['edu_type'].unique())\n",
        "print(train['family_type'].unique())\n",
        "print(train['house_type'].unique())"
      ],
      "execution_count": null,
      "outputs": []
    },
    {
      "cell_type": "code",
      "metadata": {
        "id": "EDHs7RStmkJx"
      },
      "source": [
        "from sklearn import preprocessing\n",
        "label_encoder=preprocessing.LabelEncoder()\n",
        "train['income_type']=label_encoder.fit_transform(train['income_type'])\n",
        "test['income_type']=label_encoder.transform(test['income_type'])\n",
        "########################################################################\n",
        "train['edu_type']=label_encoder.fit_transform(train['edu_type'])\n",
        "test['edu_type']=label_encoder.transform(test['edu_type'])\n",
        "########################################################################\n",
        "train['family_type']=label_encoder.fit_transform(train['family_type'])\n",
        "test['family_type']=label_encoder.transform(test['family_type'])\n",
        "########################################################################\n",
        "train['house_type']=label_encoder.fit_transform(train['house_type'])\n",
        "test['house_type']=label_encoder.transform(test['house_type'])\n",
        "########################################################################\n",
        "train['income_total']=label_encoder.fit_transform(train['income_total'])\n",
        "test['income_total']=label_encoder.fit_transform(test['income_total'])"
      ],
      "execution_count": null,
      "outputs": []
    },
    {
      "cell_type": "markdown",
      "metadata": {
        "id": "ijBv_wi-QfOc"
      },
      "source": [
        "## 2.3 minus continuous variable"
      ]
    },
    {
      "cell_type": "code",
      "metadata": {
        "id": "wN0DG2YnlPcb"
      },
      "source": [
        "#minus 변경하고\n",
        "#구간화 함수\n",
        "def make_bin(variable, n):\n",
        "    train[variable]=-train[variable]\n",
        "    test[variable]=-test[variable]\n",
        "    count, bin_dividers =np.histogram(train[variable], bins=n) #train의 구간화를 적용\n",
        "    bin_names=[str(i) for i in range(n)]\n",
        "    train[variable]=pd.cut(x=train[variable], bins=bin_dividers, labels=bin_names, include_lowest=True)\n",
        "    test[variable]=pd.cut(x=test[variable], bins=bin_dividers, labels=bin_names, include_lowest=True)\n",
        "    test[variable].fillna(str(0), inplace=True) #test에는 없는 것을 임의의 값으로 채움\n",
        "    ##########################################################\n",
        "    train[variable]=label_encoder.fit_transform(train[variable])\n",
        "    test[variable]=label_encoder.transform(test[variable])"
      ],
      "execution_count": null,
      "outputs": []
    },
    {
      "cell_type": "code",
      "metadata": {
        "id": "8FNv2IMjlPe4"
      },
      "source": [
        "make_bin('DAYS_BIRTH', n=10)\n",
        "make_bin('DAYS_EMPLOYED', n=6)\n",
        "make_bin('begin_month', n=4)"
      ],
      "execution_count": null,
      "outputs": []
    },
    {
      "cell_type": "code",
      "metadata": {
        "id": "BbfuI9xy-fsE"
      },
      "source": [
        ""
      ],
      "execution_count": null,
      "outputs": []
    },
    {
      "cell_type": "code",
      "metadata": {
        "id": "PkCN7OEs-fuM"
      },
      "source": [
        "train"
      ],
      "execution_count": null,
      "outputs": []
    },
    {
      "cell_type": "code",
      "metadata": {
        "id": "8pELnTLo-fw1"
      },
      "source": [
        "test"
      ],
      "execution_count": null,
      "outputs": []
    },
    {
      "cell_type": "markdown",
      "metadata": {
        "id": "b1K_pklQ50FP"
      },
      "source": [
        "# **3. 모델링(추후 논의 필요)**"
      ]
    },
    {
      "cell_type": "markdown",
      "metadata": {
        "id": "cgDG89f_SOgW"
      },
      "source": [
        "## 3.1 decision tree"
      ]
    },
    {
      "cell_type": "markdown",
      "metadata": {
        "id": "L7y5AbinSVcV"
      },
      "source": [
        "## 3.2 CNN"
      ]
    },
    {
      "cell_type": "markdown",
      "metadata": {
        "id": "Ggxc-rilSX3A"
      },
      "source": [
        "## 3.3 LSTN"
      ]
    },
    {
      "cell_type": "markdown",
      "metadata": {
        "id": "4kVaMR0_Sdqg"
      },
      "source": [
        "## 3.4 XGBoost / Catboost / randomforest 등등"
      ]
    },
    {
      "cell_type": "code",
      "metadata": {
        "id": "yp0QsEh9-gX1"
      },
      "source": [
        ""
      ],
      "execution_count": null,
      "outputs": []
    },
    {
      "cell_type": "code",
      "metadata": {
        "id": "me3wTVZSS2OD"
      },
      "source": [
        ""
      ],
      "execution_count": null,
      "outputs": []
    },
    {
      "cell_type": "code",
      "metadata": {
        "id": "Z_UmwyFUS2QO"
      },
      "source": [
        ""
      ],
      "execution_count": null,
      "outputs": []
    },
    {
      "cell_type": "code",
      "metadata": {
        "id": "sG-3kN41-gaV"
      },
      "source": [
        ""
      ],
      "execution_count": null,
      "outputs": []
    },
    {
      "cell_type": "code",
      "metadata": {
        "id": "Zhk32GPa-gc2"
      },
      "source": [
        ""
      ],
      "execution_count": null,
      "outputs": []
    },
    {
      "cell_type": "markdown",
      "metadata": {
        "id": "7D7Qz10o-Q1u"
      },
      "source": [
        "# **4. 결과비교**"
      ]
    },
    {
      "cell_type": "code",
      "metadata": {
        "id": "Y9aAVy9x-g6G"
      },
      "source": [
        ""
      ],
      "execution_count": null,
      "outputs": []
    },
    {
      "cell_type": "code",
      "metadata": {
        "id": "bbu6OeqRS22m"
      },
      "source": [
        ""
      ],
      "execution_count": null,
      "outputs": []
    },
    {
      "cell_type": "code",
      "metadata": {
        "id": "ja4JOan7S25I"
      },
      "source": [
        ""
      ],
      "execution_count": null,
      "outputs": []
    },
    {
      "cell_type": "code",
      "metadata": {
        "id": "5z6sau3s-g8k"
      },
      "source": [
        ""
      ],
      "execution_count": null,
      "outputs": []
    },
    {
      "cell_type": "code",
      "metadata": {
        "id": "z2hKd31n-g_M"
      },
      "source": [
        ""
      ],
      "execution_count": null,
      "outputs": []
    }
  ]
}